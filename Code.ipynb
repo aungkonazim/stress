{
 "cells": [
  {
   "cell_type": "code",
   "execution_count": null,
   "metadata": {},
   "outputs": [],
   "source": [
    "import pandas as pd\n",
    "from sklearn.cross_validation import KFold\n",
    "import numpy as np\n",
    "import random\n",
    "\n",
    "def error_rate(main_clf, pred_clf):\n",
    "    calculate_pred = sum([1 for i in range(len(main_clf)) if main_clf[i] == pred_clf[i]])\n",
    "    corr = calculate_pred / float(len(main_clf)) * 100.0\n",
    "    clf_mis_error = 100 - corr\n",
    "\n",
    "    return clf_mis_error\n",
    "\n",
    "def c_error_rate(dataset, classifier, n_folds, learningRate, iteration):\n",
    "    kf = KFold(len(dataset), n_folds=n_folds)\n",
    "    main_error = []\n",
    "\n",
    "    for train_index, test_index in kf:\n",
    "        trainSet = dataset[train_index]\n",
    "        testSet = dataset[test_index]\n",
    "        predicted = classifier(trainSet, testSet, learningRate, iteration)\n",
    "        actual = [dataRow[-1] for dataRow in testSet]\n",
    "        errorRate = error_rate(actual, predicted)\n",
    "        main_error.append(errorRate)\n",
    "\n",
    "    return main_error\n",
    "\n",
    "def clf_record(row, weights):\n",
    "    output = weights[0]\n",
    "    for i in range(len(row) - 1):\n",
    "        output += weights[i + 1] * row[i]\n",
    "\n",
    "    if output > 0.0:\n",
    "        return 1\n",
    "    else:\n",
    "        return  - 1\n",
    "\n",
    "def calculate_weight(trainData, learningRate, iteration):\n",
    "    weights = [random.uniform(0,1) for i in range(len(trainData[0]))]\n",
    "    for iter in range(iteration):\n",
    "        for rowData in trainData:\n",
    "            predictedClass = clf_record(rowData, weights)\n",
    "            error = rowData[-1] - predictedClass\n",
    "            weights[0] = weights[0] + learningRate * error\n",
    "            for i in range(len(rowData) - 1):\n",
    "                weights[i + 1] = weights[i + 1] + learningRate * error * rowData[i]\n",
    "    return weights\n",
    "\n",
    "def percep_clf(trainData, testData, learningRate, iteration):\n",
    "    predictions = list()\n",
    "    weights = calculate_weight(trainData, learningRate, iteration)\n",
    "    for dataRow in testData:\n",
    "        prediction = clf_record(dataRow, weights)\n",
    "        predictions.append(prediction)\n",
    "    return (predictions)\n",
    "\n",
    "def data_set(fileName):\n",
    "    dataset = pd.read_csv(fileName)\n",
    "    if dataset['C'][0] == 'S' or dataset['C'][0] == 'NS':\n",
    "        dataset['C'] = dataset['C'].map({'S': 1, 'NS': -1})\n",
    "        \n",
    "        \n",
    "    dataset = dataset.as_matrix()\n",
    "    return dataset\n",
    "\n",
    "data_file = ['d-10.csv','d-100.csv']\n",
    "learning_rate = np.random.randn((3,1))\n",
    "iterations = [100,500]\n",
    "n_folds = 4\n",
    "main_error = []\n",
    "\n",
    "for filename in data_file:\n",
    "    print(\"Now showing results for file: \"+ filename)\n",
    "    dataset = data_set(filename)\n",
    "    for learningRate in learning_rate:\n",
    "        for iteration in iterations:\n",
    "            errorRate = c_error_rate(dataset, percep_clf, n_folds, learningRate, iteration)\n",
    "            print('Learning Rate = ', learningRate, 'Epoch = ', iteration)\n",
    "            error_calculation = np.mean(errorRate)\n",
    "            print('The error as the % of mis-classifications: ', error_calculation)\n",
    "            main_error.append(error_calculation)\n",
    "            \n",
    "#references : internet "
   ]
  },
  {
   "cell_type": "code",
   "execution_count": null,
   "metadata": {
    "collapsed": true
   },
   "outputs": [],
   "source": []
  },
  {
   "cell_type": "code",
   "execution_count": null,
   "metadata": {
    "collapsed": true
   },
   "outputs": [],
   "source": []
  },
  {
   "cell_type": "code",
   "execution_count": null,
   "metadata": {
    "collapsed": true
   },
   "outputs": [],
   "source": []
  }
 ],
 "metadata": {
  "anaconda-cloud": {},
  "kernelspec": {
   "display_name": "Python 3",
   "language": "python",
   "name": "python3"
  },
  "language_info": {
   "codemirror_mode": {
    "name": "ipython",
    "version": 3
   },
   "file_extension": ".py",
   "mimetype": "text/x-python",
   "name": "python",
   "nbconvert_exporter": "python",
   "pygments_lexer": "ipython3",
   "version": "3.6.3"
  }
 },
 "nbformat": 4,
 "nbformat_minor": 1
}
